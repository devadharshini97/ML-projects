{
  "nbformat": 4,
  "nbformat_minor": 0,
  "metadata": {
    "colab": {
      "provenance": [],
      "authorship_tag": "ABX9TyPSvrDQAsoar2jRF3e5X2Z/",
      "include_colab_link": true
    },
    "kernelspec": {
      "name": "python3",
      "display_name": "Python 3"
    },
    "language_info": {
      "name": "python"
    }
  },
  "cells": [
    {
      "cell_type": "markdown",
      "metadata": {
        "id": "view-in-github",
        "colab_type": "text"
      },
      "source": [
        "<a href=\"https://colab.research.google.com/github/devadharshini97/ML-projects/blob/main/Adv_ML_Hw1.ipynb\" target=\"_parent\"><img src=\"https://colab.research.google.com/assets/colab-badge.svg\" alt=\"Open In Colab\"/></a>"
      ]
    },
    {
      "cell_type": "code",
      "execution_count": 61,
      "metadata": {
        "id": "--SSPpDtobrZ"
      },
      "outputs": [],
      "source": [
        "import numpy as np\n",
        "import requests, gzip, os, hashlib"
      ]
    },
    {
      "cell_type": "code",
      "source": [
        "#fetch data from the url directly. I tried copy pasting the zip files from the website but, it got uncompressed everytime \n",
        "#I did it manually, so I had to program (got this piece of program from online for storing data in local path) to directly \n",
        "#get the data from the url and stored it in the path.\n",
        "\n",
        "path='/content/sample_data/mnist'\n",
        "def fetch(url):\n",
        "    fp = os.path.join(path, hashlib.md5(url.encode('utf-8')).hexdigest())\n",
        "    if os.path.isfile(fp):\n",
        "        with open(fp, \"rb\") as f:\n",
        "            data = f.read()\n",
        "    else:\n",
        "        with open(fp, \"wb\") as f:\n",
        "            data = requests.get(url).content\n",
        "            f.write(data)\n",
        "    return np.frombuffer(gzip.decompress(data), dtype=np.uint8).copy()\n",
        "\n",
        "X = fetch(\"http://yann.lecun.com/exdb/mnist/train-images-idx3-ubyte.gz\")[0x10:].reshape((-1, 28, 28))\n",
        "Y_train = fetch(\"http://yann.lecun.com/exdb/mnist/train-labels-idx1-ubyte.gz\")[8:]\n",
        "X_test = fetch(\"http://yann.lecun.com/exdb/mnist/t10k-images-idx3-ubyte.gz\")[0x10:].reshape((-1, 28,28))\n",
        "Y_test = fetch(\"http://yann.lecun.com/exdb/mnist/t10k-labels-idx1-ubyte.gz\")[8:]"
      ],
      "metadata": {
        "id": "70jfitX9oeOU"
      },
      "execution_count": 62,
      "outputs": []
    },
    {
      "cell_type": "code",
      "source": [
        "#checking the shape of the dataset\n",
        "print(X.shape, Y_train.shape)\n",
        "print(X_test.shape, Y_test.shape)"
      ],
      "metadata": {
        "colab": {
          "base_uri": "https://localhost:8080/"
        },
        "id": "Bpi6-MAOrjBa",
        "outputId": "5d711d47-3838-472c-f0c5-1668ae7a11e0"
      },
      "execution_count": 63,
      "outputs": [
        {
          "output_type": "stream",
          "name": "stdout",
          "text": [
            "(60000, 28, 28) (60000,)\n",
            "(10000, 28, 28) (10000,)\n"
          ]
        }
      ]
    },
    {
      "cell_type": "markdown",
      "source": [
        "# New Section"
      ],
      "metadata": {
        "id": "D8wTih059PA0"
      }
    },
    {
      "cell_type": "code",
      "source": [
        "#reshaping the images to vectorized form\n",
        "X_train = np.reshape(X, (-1,784))\n",
        "X_test = np.reshape(X_test, (-1, 784))"
      ],
      "metadata": {
        "id": "5aPyImmro7oV"
      },
      "execution_count": 64,
      "outputs": []
    },
    {
      "cell_type": "code",
      "source": [
        "#normalizing the image pixel size to be between 0 and 1\n",
        "X_train = X_train.astype('float32')/255\n",
        "X_test = X_test.astype('float32')/255"
      ],
      "metadata": {
        "id": "3Ig9OM55t0C2"
      },
      "execution_count": 65,
      "outputs": []
    },
    {
      "cell_type": "code",
      "source": [
        "print(X_train.shape, Y_train.shape, X_test.shape, Y_test.shape)"
      ],
      "metadata": {
        "colab": {
          "base_uri": "https://localhost:8080/"
        },
        "id": "Tch42N5npDLv",
        "outputId": "10552293-35bd-40b2-a298-106f6f4d395f"
      },
      "execution_count": 66,
      "outputs": [
        {
          "output_type": "stream",
          "name": "stdout",
          "text": [
            "(60000, 784) (60000,) (10000, 784) (10000,)\n"
          ]
        }
      ]
    },
    {
      "cell_type": "code",
      "source": [
        "#Converting the Y labels for test and train to one-hot vector form \n",
        "#which means all the elements will be 0 except for one element that uniquely identifies the index of the label \n",
        "from tensorflow.keras.utils import to_categorical\n",
        "\n",
        "#Y_train = to_categorical(Y_train)\n",
        "#Y_test = to_categorical(Y_test)"
      ],
      "metadata": {
        "id": "nPpFrh7mo_2n"
      },
      "execution_count": 68,
      "outputs": []
    },
    {
      "cell_type": "code",
      "source": [
        "print(X_train.shape, Y_train.shape, X_test.shape, Y_test.shape)\n"
      ],
      "metadata": {
        "colab": {
          "base_uri": "https://localhost:8080/"
        },
        "id": "onSRv0eYo-gq",
        "outputId": "0615f64e-6c3e-4d84-ef8d-d646fae1ffe5"
      },
      "execution_count": 69,
      "outputs": [
        {
          "output_type": "stream",
          "name": "stdout",
          "text": [
            "(60000, 784) (60000,) (10000, 784) (10000,)\n"
          ]
        }
      ]
    },
    {
      "cell_type": "code",
      "source": [
        "#defining 2 hidden layers with an input and output layer.\n",
        "from tensorflow.keras.models import Sequential\n",
        "from tensorflow.keras.layers import InputLayer\n",
        "from tensorflow.keras.layers import Dense\n",
        "\n",
        "Mod = Sequential()\n",
        "Mod.add(InputLayer(input_shape=(784, ))) \n",
        "Mod.add(Dense(256, activation='relu')) \n",
        "Mod.add(Dense(256, activation='relu')) \n",
        "Mod.add(Dense(10, activation='softmax')) \n",
        "\n",
        "Mod.summary()"
      ],
      "metadata": {
        "colab": {
          "base_uri": "https://localhost:8080/"
        },
        "id": "0E3GFtKAuoes",
        "outputId": "c99ef812-8cec-44dd-e908-3b63258243e7"
      },
      "execution_count": 70,
      "outputs": [
        {
          "output_type": "stream",
          "name": "stdout",
          "text": [
            "Model: \"sequential_2\"\n",
            "_________________________________________________________________\n",
            " Layer (type)                Output Shape              Param #   \n",
            "=================================================================\n",
            " dense_6 (Dense)             (None, 256)               200960    \n",
            "                                                                 \n",
            " dense_7 (Dense)             (None, 256)               65792     \n",
            "                                                                 \n",
            " dense_8 (Dense)             (None, 10)                2570      \n",
            "                                                                 \n",
            "=================================================================\n",
            "Total params: 269,322\n",
            "Trainable params: 269,322\n",
            "Non-trainable params: 0\n",
            "_________________________________________________________________\n"
          ]
        }
      ]
    },
    {
      "cell_type": "markdown",
      "source": [
        "The input layer has no activation function. And for the hidden layers, non-linear activation functions are used as the mnist dataset classification is non-linear that establishes non-linear relation between data.\n",
        "So, we use the ReLu function for this purpose. For the output layer the Softmax activation function is used since there are 10 nodes in the output layer and each correcponds to 10 classes/ labels."
      ],
      "metadata": {
        "id": "rNUrNDOKRJCf"
      }
    },
    {
      "cell_type": "code",
      "source": [
        "#optimization\n",
        "Mod.compile(loss='sparse_categorical_crossentropy',\n",
        "            optimizer='adam',\n",
        "            metrics=['accuracy'])\n",
        "history = Mod.fit(X_train, Y_train, epochs=20, batch_size=128, validation_data=(X_test,Y_test))"
      ],
      "metadata": {
        "colab": {
          "base_uri": "https://localhost:8080/"
        },
        "id": "14gB6W_Qu_1p",
        "outputId": "e355df24-547c-4100-b276-393e616f21ed"
      },
      "execution_count": 71,
      "outputs": [
        {
          "output_type": "stream",
          "name": "stdout",
          "text": [
            "Epoch 1/20\n",
            "469/469 [==============================] - 4s 7ms/step - loss: 0.2590 - accuracy: 0.9255 - val_loss: 0.1184 - val_accuracy: 0.9626\n",
            "Epoch 2/20\n",
            "469/469 [==============================] - 3s 7ms/step - loss: 0.0961 - accuracy: 0.9708 - val_loss: 0.0833 - val_accuracy: 0.9736\n",
            "Epoch 3/20\n",
            "469/469 [==============================] - 3s 7ms/step - loss: 0.0626 - accuracy: 0.9804 - val_loss: 0.0828 - val_accuracy: 0.9753\n",
            "Epoch 4/20\n",
            "469/469 [==============================] - 3s 7ms/step - loss: 0.0441 - accuracy: 0.9860 - val_loss: 0.0748 - val_accuracy: 0.9775\n",
            "Epoch 5/20\n",
            "469/469 [==============================] - 3s 7ms/step - loss: 0.0322 - accuracy: 0.9893 - val_loss: 0.0704 - val_accuracy: 0.9780\n",
            "Epoch 6/20\n",
            "469/469 [==============================] - 3s 7ms/step - loss: 0.0263 - accuracy: 0.9913 - val_loss: 0.0819 - val_accuracy: 0.9767\n",
            "Epoch 7/20\n",
            "469/469 [==============================] - 3s 7ms/step - loss: 0.0204 - accuracy: 0.9935 - val_loss: 0.0717 - val_accuracy: 0.9803\n",
            "Epoch 8/20\n",
            "469/469 [==============================] - 3s 7ms/step - loss: 0.0149 - accuracy: 0.9952 - val_loss: 0.0757 - val_accuracy: 0.9794\n",
            "Epoch 9/20\n",
            "469/469 [==============================] - 3s 7ms/step - loss: 0.0165 - accuracy: 0.9947 - val_loss: 0.0870 - val_accuracy: 0.9792\n",
            "Epoch 10/20\n",
            "469/469 [==============================] - 3s 7ms/step - loss: 0.0140 - accuracy: 0.9952 - val_loss: 0.0865 - val_accuracy: 0.9803\n",
            "Epoch 11/20\n",
            "469/469 [==============================] - 3s 7ms/step - loss: 0.0136 - accuracy: 0.9954 - val_loss: 0.0981 - val_accuracy: 0.9783\n",
            "Epoch 12/20\n",
            "469/469 [==============================] - 3s 7ms/step - loss: 0.0089 - accuracy: 0.9969 - val_loss: 0.0867 - val_accuracy: 0.9796\n",
            "Epoch 13/20\n",
            "469/469 [==============================] - 3s 7ms/step - loss: 0.0102 - accuracy: 0.9966 - val_loss: 0.0980 - val_accuracy: 0.9757\n",
            "Epoch 14/20\n",
            "469/469 [==============================] - 3s 7ms/step - loss: 0.0080 - accuracy: 0.9974 - val_loss: 0.1007 - val_accuracy: 0.9788\n",
            "Epoch 15/20\n",
            "469/469 [==============================] - 3s 7ms/step - loss: 0.0110 - accuracy: 0.9962 - val_loss: 0.0970 - val_accuracy: 0.9797\n",
            "Epoch 16/20\n",
            "469/469 [==============================] - 3s 7ms/step - loss: 0.0070 - accuracy: 0.9977 - val_loss: 0.1044 - val_accuracy: 0.9791\n",
            "Epoch 17/20\n",
            "469/469 [==============================] - 3s 7ms/step - loss: 0.0066 - accuracy: 0.9980 - val_loss: 0.0990 - val_accuracy: 0.9801\n",
            "Epoch 18/20\n",
            "469/469 [==============================] - 3s 7ms/step - loss: 0.0096 - accuracy: 0.9970 - val_loss: 0.1049 - val_accuracy: 0.9804\n",
            "Epoch 19/20\n",
            "469/469 [==============================] - 3s 7ms/step - loss: 0.0091 - accuracy: 0.9970 - val_loss: 0.1304 - val_accuracy: 0.9751\n",
            "Epoch 20/20\n",
            "469/469 [==============================] - 3s 7ms/step - loss: 0.0072 - accuracy: 0.9974 - val_loss: 0.1223 - val_accuracy: 0.9774\n"
          ]
        }
      ]
    },
    {
      "cell_type": "markdown",
      "source": [
        "In this optimization step, we configure the learning parameters needed in the training part. Here, ADAM optimizer is used which is the gradient descent that is based on adaptive estimation of 1st and 2nd order moments. Here, categorical cross-entropy is used since the labels are one-hot encoded. If that was not the case, then we could use the sparse cross-entropy."
      ],
      "metadata": {
        "id": "Lx0KQWB2SO-p"
      }
    },
    {
      "cell_type": "markdown",
      "source": [
        "Next, we fit the model with 20 epochs, which means the entire training dataset is run 20 times through the optimizer. Also, we divide the training set into batches which is given by 1+ (size of the training dataset/ batch size), it eliminates the fractional part also. In each epoch, 128 training instances are taken and the model parameters are updated. Then the next batch and this happens till 469 steps are completed in each epoch."
      ],
      "metadata": {
        "id": "8OrMa0v6U-qa"
      }
    },
    {
      "cell_type": "code",
      "source": [
        "#evaluating the model using the test dataset\n",
        "test_loss, test_acc = Mod.evaluate(X_test, Y_test, batch_size=128,verbose=0)\n",
        "\n",
        "print(\"Test Loss:\", test_loss)\n",
        "print(\"Test Accuracy:\", test_acc)"
      ],
      "metadata": {
        "colab": {
          "base_uri": "https://localhost:8080/"
        },
        "id": "v4-BMAli0wNW",
        "outputId": "7e8d1fd5-a34b-47a7-b98f-292a8faef7d0"
      },
      "execution_count": 72,
      "outputs": [
        {
          "output_type": "stream",
          "name": "stdout",
          "text": [
            "Test Loss: 0.12233791500329971\n",
            "Test Accuracy: 0.977400004863739\n"
          ]
        }
      ]
    },
    {
      "cell_type": "code",
      "source": [
        "print(X_test.shape)"
      ],
      "metadata": {
        "colab": {
          "base_uri": "https://localhost:8080/"
        },
        "id": "zNqRc54K6lVM",
        "outputId": "7be62a1f-a3a0-4e0e-9c05-1f90c9f702cd"
      },
      "execution_count": 73,
      "outputs": [
        {
          "output_type": "stream",
          "name": "stdout",
          "text": [
            "(10000, 784)\n"
          ]
        }
      ]
    },
    {
      "cell_type": "code",
      "source": [
        "import matplotlib as plt\n",
        "plt.imshow(X_test.reshape((-1, 28,28))[1],cmap='gray_r')\n",
        "print(Y_test[1])\n",
        "prediction = Mod.predict(X_test)\n",
        "print('Predicted Value:',np.argmax(prediction[1]))\n",
        "if(Y_test[1]==(np.argmax(prediction[1]))):\n",
        "  print('Successful prediction')\n",
        "else:\n",
        "  print('Unsuccessful prediction')"
      ],
      "metadata": {
        "colab": {
          "base_uri": "https://localhost:8080/",
          "height": 334
        },
        "id": "XFtNhxpLYLY1",
        "outputId": "6c5ea0bd-4b06-4763-8a63-1c6ed383105d"
      },
      "execution_count": 74,
      "outputs": [
        {
          "output_type": "stream",
          "name": "stdout",
          "text": [
            "2\n",
            "313/313 [==============================] - 1s 2ms/step\n",
            "Predicted Value: 2\n",
            "Successful prediction\n"
          ]
        },
        {
          "output_type": "display_data",
          "data": {
            "text/plain": [
              "<Figure size 432x288 with 1 Axes>"
            ],
            "image/png": "[encoded data removed]"
          },
          "metadata": {
            "needs_background": "light"
          }
        }
      ]
    },
    {
      "cell_type": "markdown",
      "source": [
        "The prediction is done using the test images and the output is compared to the test labels."
      ],
      "metadata": {
        "id": "SF2kwr3YbanA"
      }
    },
    {
      "cell_type": "code",
      "source": [
        "plt.plot(history.history['accuracy'], label='Train')\n",
        "plt.plot(history.history['val_accuracy'], label='Test')\n",
        "plt.ylabel('Accuracy')\n",
        "plt.xlabel('Epoch')\n",
        "plt.title('Model Accuracy Plot')\n",
        "plt.legend(loc='lower right')"
      ],
      "metadata": {
        "colab": {
          "base_uri": "https://localhost:8080/",
          "height": 312
        },
        "id": "q4VcwABm6T6h",
        "outputId": "b027d34a-9871-4766-cab0-8edb1c869a86"
      },
      "execution_count": 75,
      "outputs": [
        {
          "output_type": "execute_result",
          "data": {
            "text/plain": [
              "<matplotlib.legend.Legend at 0x7ff3a05c1d90>"
            ]
          },
          "metadata": {},
          "execution_count": 75
        },
        {
          "output_type": "display_data",
          "data": {
            "text/plain": [
              "<Figure size 432x288 with 1 Axes>"
            ],
            "image/png": "[encoded data removed]"
          },
          "metadata": {
            "needs_background": "light"
          }
        }
      ]
    },
    {
      "cell_type": "markdown",
      "source": [
        "# New Section"
      ],
      "metadata": {
        "id": "QCaPIC5xduY5"
      }
    },
    {
      "cell_type": "code",
      "source": [
        "plt.plot(history.history['loss'], label='Train')\n",
        "plt.plot(history.history['val_loss'], label='Test')\n",
        "plt.ylabel('Loss')\n",
        "plt.xlabel('Epoch')\n",
        "plt.title('Model Loss Plot')\n",
        "plt.legend(loc='upper right')"
      ],
      "metadata": {
        "colab": {
          "base_uri": "https://localhost:8080/",
          "height": 312
        },
        "id": "UOA4JEfN-mon",
        "outputId": "67541589-b5a5-4adb-e55c-eded93ecbcb6"
      },
      "execution_count": 77,
      "outputs": [
        {
          "output_type": "execute_result",
          "data": {
            "text/plain": [
              "<matplotlib.legend.Legend at 0x7ff3a0341ca0>"
            ]
          },
          "metadata": {},
          "execution_count": 77
        },
        {
          "output_type": "display_data",
          "data": {
            "text/plain": [
              "<Figure size 432x288 with 1 Axes>"
            ],
            "image/png": "[encoded data removed]"
          },
          "metadata": {
            "needs_background": "light"
          }
        }
      ]
    },
    {
      "cell_type": "code",
      "source": [],
      "metadata": {
        "id": "RbO3prnmAIQK"
      },
      "execution_count": null,
      "outputs": []
    }
  ]
}